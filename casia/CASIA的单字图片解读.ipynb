{
 "cells": [
  {
   "cell_type": "code",
   "execution_count": 1,
   "metadata": {
    "scrolled": false
   },
   "outputs": [
    {
     "data": {
      "text/plain": [
       "['E:/OCR/CASIA/data/HWDB1.0trn_gnt.zip',\n",
       " 'E:/OCR/CASIA/data/HWDB1.0tst_gnt.zip',\n",
       " 'E:/OCR/CASIA/data/HWDB1.1trn_gnt.zip',\n",
       " 'E:/OCR/CASIA/data/HWDB1.1tst_gnt.zip']"
      ]
     },
     "execution_count": 1,
     "metadata": {},
     "output_type": "execute_result"
    }
   ],
   "source": [
    "import os\n",
    "import struct\n",
    "import zipfile\n",
    "import numpy as np\n",
    "\n",
    "%matplotlib inline\n",
    "from matplotlib import pyplot as plt\n",
    "\n",
    "root = 'E:/OCR/CASIA/data'  # CASI 数据集所在根目录\n",
    "image_s = [f'{root}/{name}' for name in os.listdir(root) if 'gnt' in name] # 图片的源文件\n",
    "image_s"
   ]
  },
  {
   "cell_type": "markdown",
   "metadata": {},
   "source": [
    "## GNT"
   ]
  },
  {
   "cell_type": "code",
   "execution_count": 2,
   "metadata": {},
   "outputs": [],
   "source": [
    "class GNT:\n",
    "    # GNT 文件的解码器\n",
    "    def __init__(self, Z, set_name):\n",
    "        self.Z = Z\n",
    "        self.set_name = set_name # 数据集名称\n",
    "    def __iter__(self):\n",
    "        with self.Z.open(self.set_name) as fp:\n",
    "            head = True\n",
    "            while head:\n",
    "                head = fp.read(4)\n",
    "                if not head: # 判断文件是否读到结尾\n",
    "                    break # 读到文件结尾立即结束\n",
    "                head = struct.unpack('I', head)[0]\n",
    "                tag_code = fp.read(2).decode('gb2312-80')\n",
    "                width, height = struct.unpack('2H', fp.read(4))\n",
    "                bitmap = np.frombuffer(fp.read(width*height), np.uint8)\n",
    "                img = bitmap.reshape((height, width))\n",
    "                yield img, tag_code"
   ]
  },
  {
   "cell_type": "code",
   "execution_count": 3,
   "metadata": {},
   "outputs": [
    {
     "data": {
      "text/plain": [
       "['1.0train-gb1.gnt']"
      ]
     },
     "execution_count": 3,
     "metadata": {},
     "output_type": "execute_result"
    }
   ],
   "source": [
    "Z = zipfile.ZipFile(f'{root}/HWDB1.0trn_gnt.zip')\n",
    "Z.namelist()"
   ]
  },
  {
   "cell_type": "code",
   "execution_count": 4,
   "metadata": {},
   "outputs": [],
   "source": [
    "set_name = '1.0train-gb1.gnt'\n",
    "gnt = GNT(Z, set_name)\n",
    "for imgs, labels in gnt:\n",
    "    break"
   ]
  },
  {
   "cell_type": "code",
   "execution_count": 5,
   "metadata": {},
   "outputs": [
    {
     "name": "stderr",
     "output_type": "stream",
     "text": [
      "C:\\Users\\xz\\.conda\\envs\\mxnet\\lib\\site-packages\\matplotlib\\backends\\backend_agg.py:211: RuntimeWarning: Glyph 25212 missing from current font.\n",
      "  font.set_text(s, 0.0, flags=flags)\n",
      "C:\\Users\\xz\\.conda\\envs\\mxnet\\lib\\site-packages\\matplotlib\\backends\\backend_agg.py:176: RuntimeWarning: Glyph 25212 missing from current font.\n",
      "  font.load_char(ord(s), flags=flags)\n"
     ]
    },
    {
     "data": {
      "image/png": "[encoded data removed]",
      "text/plain": [
       "<Figure size 432x288 with 1 Axes>"
      ]
     },
     "metadata": {
      "needs_background": "light"
     },
     "output_type": "display_data"
    }
   ],
   "source": [
    "plt.imshow(imgs)\n",
    "plt.title(labels)\n",
    "plt.show()"
   ]
  },
  {
   "cell_type": "code",
   "execution_count": 6,
   "metadata": {
    "scrolled": true
   },
   "outputs": [],
   "source": [
    "plt.rcParams['font.sans-serif'] = ['SimHei']  # 用来正常显示中文标签\n",
    "plt.rcParams['axes.unicode_minus'] = False  # 用来正常显示负号"
   ]
  },
  {
   "cell_type": "code",
   "execution_count": 7,
   "metadata": {
    "scrolled": false
   },
   "outputs": [
    {
     "data": {
      "image/png": "[encoded data removed]",
      "text/plain": [
       "<Figure size 432x288 with 1 Axes>"
      ]
     },
     "metadata": {
      "needs_background": "light"
     },
     "output_type": "display_data"
    }
   ],
   "source": [
    "plt.imshow(imgs)\n",
    "plt.title(labels);"
   ]
  },
  {
   "cell_type": "code",
   "execution_count": 8,
   "metadata": {},
   "outputs": [],
   "source": [
    "labels = np.asanyarray([l for _, l in gnt])"
   ]
  },
  {
   "cell_type": "code",
   "execution_count": 16,
   "metadata": {},
   "outputs": [
    {
     "data": {
      "text/plain": [
       "1246991"
      ]
     },
     "execution_count": 16,
     "metadata": {},
     "output_type": "execute_result"
    }
   ],
   "source": [
    "labels.shape[0]"
   ]
  },
  {
   "cell_type": "code",
   "execution_count": null,
   "metadata": {},
   "outputs": [],
   "source": []
  },
  {
   "cell_type": "markdown",
   "metadata": {},
   "source": [
    "## POT"
   ]
  },
  {
   "cell_type": "code",
   "execution_count": null,
   "metadata": {},
   "outputs": [],
   "source": [
    "class POT:\n",
    "    # POT 文件的解码器\n",
    "    def __init__(self, Z, set_name):\n",
    "        self.Z = Z\n",
    "        self.set_name = set_name # 数据集名称\n",
    "    def __iter__(self):\n",
    "        with self.Z.open(self.set_name) as fp:\n",
    "            head = True\n",
    "            while head:\n",
    "                head = fp.read(2)\n",
    "                if not head: # 判断文件是否读到结尾\n",
    "                    break # 读到文件结尾立即结束\n",
    "                head = struct.unpack('H', head)[0]\n",
    "                stroke_num = struct.unpack('H', fp.read(2))[0]\n",
    "                xy_start = struct.unpack('2h', fp.read(4))\n",
    "                stroke_end = struct.unpack('2H', fp.read(4))\n",
    "                xy_end = struct.unpack('2H', fp.read(4))\n",
    "                yield "
   ]
  },
  {
   "cell_type": "code",
   "execution_count": 14,
   "metadata": {},
   "outputs": [
    {
     "data": {
      "text/plain": [
       "['E:/OCR/CASIA/data/OLHWDB1.0test_pot.zip',\n",
       " 'E:/OCR/CASIA/data/OLHWDB1.0train_pot.zip',\n",
       " 'E:/OCR/CASIA/data/OLHWDB1.1trn_pot.zip',\n",
       " 'E:/OCR/CASIA/data/OLHWDB1.1tst_pot.zip']"
      ]
     },
     "execution_count": 14,
     "metadata": {},
     "output_type": "execute_result"
    }
   ],
   "source": [
    "image_s1 = [f'{root}/{name}' for name in os.listdir(root) if 'pot' in name] # POT 图片的源文件\n",
    "image_s1"
   ]
  },
  {
   "cell_type": "code",
   "execution_count": 15,
   "metadata": {},
   "outputs": [],
   "source": [
    "Z = zipfile.ZipFile(f'{root}/OLHWDB1.1trn_pot.zip')\n",
    "set_name = '1232-c.pot'"
   ]
  },
  {
   "cell_type": "code",
   "execution_count": null,
   "metadata": {},
   "outputs": [],
   "source": [
    "fp = Z.open(set_name)\n",
    "size = struct.unpack('H', fp.read(2))[0]\n",
    "\n",
    "stroke_num = struct.unpack('H', fp.read(2))[0]\n",
    "xy_start = struct.unpack('2h', fp.read(4))\n",
    "stroke_end = struct.unpack('2H', fp.read(4))\n",
    "xy_end = struct.unpack('2H', fp.read(4))"
   ]
  },
  {
   "cell_type": "code",
   "execution_count": null,
   "metadata": {},
   "outputs": [],
   "source": [
    "xy_start, stroke_end, xy_end"
   ]
  },
  {
   "cell_type": "code",
   "execution_count": null,
   "metadata": {},
   "outputs": [],
   "source": [
    "xy"
   ]
  },
  {
   "cell_type": "code",
   "execution_count": null,
   "metadata": {},
   "outputs": [],
   "source": []
  }
 ],
 "metadata": {
  "kernelspec": {
   "display_name": "mxnet",
   "language": "python",
   "name": "mxnet"
  },
  "language_info": {
   "codemirror_mode": {
    "name": "ipython",
    "version": 3
   },
   "file_extension": ".py",
   "mimetype": "text/x-python",
   "name": "python",
   "nbconvert_exporter": "python",
   "pygments_lexer": "ipython3",
   "version": "3.7.0"
  }
 },
 "nbformat": 4,
 "nbformat_minor": 2
}
